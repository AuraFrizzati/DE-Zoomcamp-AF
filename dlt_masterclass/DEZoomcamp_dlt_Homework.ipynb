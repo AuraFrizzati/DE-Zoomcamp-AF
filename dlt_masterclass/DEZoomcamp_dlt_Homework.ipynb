{
  "cells": [
    {
      "cell_type": "markdown",
      "metadata": {
        "id": "EFPjhhB5VXd9"
      },
      "source": [
        "# **Workshop \"Data Ingestion with dlt\": Homework**\n"
      ]
    },
    {
      "cell_type": "markdown",
      "metadata": {
        "id": "a0V54cILVjfy"
      },
      "source": [
        "---\n",
        "\n",
        "## **Dataset & API**\n",
        "\n",
        "We’ll use **NYC Taxi data** via the same custom API from the workshop:\n",
        "\n",
        "🔹 **Base API URL:**  \n",
        "```\n",
        "https://us-central1-dlthub-analytics.cloudfunctions.net/data_engineering_zoomcamp_api\n",
        "```\n",
        "🔹 **Data format:** Paginated JSON (1,000 records per page).  \n",
        "🔹 **API Pagination:** Stop when an empty page is returned.  "
      ]
    },
    {
      "cell_type": "markdown",
      "metadata": {
        "id": "pNq2oqruVtiQ"
      },
      "source": [
        "## **Question 1: dlt Version**\n",
        "\n",
        "1. **Install dlt**:"
      ]
    },
    {
      "cell_type": "code",
      "execution_count": 3,
      "metadata": {
        "id": "9yTfzUkZVwYi"
      },
      "outputs": [
        {
          "name": "stdout",
          "output_type": "stream",
          "text": [
            "Collecting dlt[duckdb]\n",
            "  Downloading dlt-1.6.1-py3-none-any.whl.metadata (11 kB)\n",
            "Collecting PyYAML>=5.4.1 (from dlt[duckdb])\n",
            "  Downloading PyYAML-6.0.2-cp313-cp313-macosx_11_0_arm64.whl.metadata (2.1 kB)\n",
            "Collecting click>=7.1 (from dlt[duckdb])\n",
            "  Downloading click-8.1.8-py3-none-any.whl.metadata (2.3 kB)\n",
            "Collecting dlt-pendulum>=3.0.2 (from dlt[duckdb])\n",
            "  Downloading dlt_pendulum-3.0.2-cp313-cp313-macosx_11_0_arm64.whl.metadata (6.8 kB)\n",
            "Collecting duckdb>=0.9 (from dlt[duckdb])\n",
            "  Downloading duckdb-1.2.0-cp313-cp313-macosx_12_0_arm64.whl.metadata (966 bytes)\n",
            "Collecting fsspec>=2022.4.0 (from dlt[duckdb])\n",
            "  Downloading fsspec-2025.2.0-py3-none-any.whl.metadata (11 kB)\n",
            "Collecting gitpython>=3.1.29 (from dlt[duckdb])\n",
            "  Downloading GitPython-3.1.44-py3-none-any.whl.metadata (13 kB)\n",
            "Collecting giturlparse>=0.10.0 (from dlt[duckdb])\n",
            "  Downloading giturlparse-0.12.0-py2.py3-none-any.whl.metadata (4.5 kB)\n",
            "Collecting hexbytes>=0.2.2 (from dlt[duckdb])\n",
            "  Downloading hexbytes-1.3.0-py3-none-any.whl.metadata (3.3 kB)\n",
            "Collecting humanize>=4.4.0 (from dlt[duckdb])\n",
            "  Downloading humanize-4.11.0-py3-none-any.whl.metadata (7.8 kB)\n",
            "Collecting jsonpath-ng>=1.5.3 (from dlt[duckdb])\n",
            "  Downloading jsonpath_ng-1.7.0-py3-none-any.whl.metadata (18 kB)\n",
            "Collecting makefun>=1.15.0 (from dlt[duckdb])\n",
            "  Downloading makefun-1.15.6-py2.py3-none-any.whl.metadata (3.2 kB)\n",
            "Collecting orjson!=3.10.1,!=3.9.11,!=3.9.12,!=3.9.13,!=3.9.14,<4,>=3.6.7 (from dlt[duckdb])\n",
            "  Downloading orjson-3.10.15-cp313-cp313-macosx_10_15_x86_64.macosx_11_0_arm64.macosx_10_15_universal2.whl.metadata (41 kB)\n",
            "Requirement already satisfied: packaging>=21.1 in /Users/aurafrizzati/anaconda3/envs/DE_zoomcamp/lib/python3.13/site-packages (from dlt[duckdb]) (24.2)\n",
            "Collecting pathvalidate>=2.5.2 (from dlt[duckdb])\n",
            "  Downloading pathvalidate-3.2.3-py3-none-any.whl.metadata (12 kB)\n",
            "Collecting pluggy>=1.3.0 (from dlt[duckdb])\n",
            "  Downloading pluggy-1.5.0-py3-none-any.whl.metadata (4.8 kB)\n",
            "Requirement already satisfied: pytz>=2022.6 in /Users/aurafrizzati/anaconda3/envs/DE_zoomcamp/lib/python3.13/site-packages (from dlt[duckdb]) (2024.2)\n",
            "Collecting requests>=2.26.0 (from dlt[duckdb])\n",
            "  Using cached requests-2.32.3-py3-none-any.whl.metadata (4.6 kB)\n",
            "Collecting requirements-parser>=0.5.0 (from dlt[duckdb])\n",
            "  Downloading requirements_parser-0.11.0-py3-none-any.whl.metadata (4.7 kB)\n",
            "Collecting rich-argparse<2.0.0,>=1.6.0 (from dlt[duckdb])\n",
            "  Downloading rich_argparse-1.7.0-py3-none-any.whl.metadata (14 kB)\n",
            "Collecting semver>=3.0.0 (from dlt[duckdb])\n",
            "  Downloading semver-3.0.4-py3-none-any.whl.metadata (6.8 kB)\n",
            "Requirement already satisfied: setuptools>=65.6.0 in /Users/aurafrizzati/anaconda3/envs/DE_zoomcamp/lib/python3.13/site-packages (from dlt[duckdb]) (75.1.0)\n",
            "Collecting simplejson>=3.17.5 (from dlt[duckdb])\n",
            "  Downloading simplejson-3.19.3-cp313-cp313-macosx_11_0_arm64.whl.metadata (3.2 kB)\n",
            "Collecting tenacity>=8.0.2 (from dlt[duckdb])\n",
            "  Downloading tenacity-9.0.0-py3-none-any.whl.metadata (1.2 kB)\n",
            "Collecting tomlkit>=0.11.3 (from dlt[duckdb])\n",
            "  Downloading tomlkit-0.13.2-py3-none-any.whl.metadata (2.7 kB)\n",
            "Requirement already satisfied: typing-extensions>=4.8.0 in /Users/aurafrizzati/anaconda3/envs/DE_zoomcamp/lib/python3.13/site-packages (from dlt[duckdb]) (4.12.2)\n",
            "Requirement already satisfied: tzdata>=2022.1 in /Users/aurafrizzati/anaconda3/envs/DE_zoomcamp/lib/python3.13/site-packages (from dlt[duckdb]) (2025.1)\n",
            "Requirement already satisfied: python-dateutil>=2.6 in /Users/aurafrizzati/anaconda3/envs/DE_zoomcamp/lib/python3.13/site-packages (from dlt-pendulum>=3.0.2->dlt[duckdb]) (2.9.0.post0)\n",
            "Collecting cffi>=1.17 (from dlt-pendulum>=3.0.2->dlt[duckdb])\n",
            "  Downloading cffi-1.17.1-cp313-cp313-macosx_11_0_arm64.whl.metadata (1.5 kB)\n",
            "Collecting gitdb<5,>=4.0.1 (from gitpython>=3.1.29->dlt[duckdb])\n",
            "  Downloading gitdb-4.0.12-py3-none-any.whl.metadata (1.2 kB)\n",
            "Collecting ply (from jsonpath-ng>=1.5.3->dlt[duckdb])\n",
            "  Downloading ply-3.11-py2.py3-none-any.whl.metadata (844 bytes)\n",
            "Collecting charset-normalizer<4,>=2 (from requests>=2.26.0->dlt[duckdb])\n",
            "  Downloading charset_normalizer-3.4.1-cp313-cp313-macosx_10_13_universal2.whl.metadata (35 kB)\n",
            "Collecting idna<4,>=2.5 (from requests>=2.26.0->dlt[duckdb])\n",
            "  Downloading idna-3.10-py3-none-any.whl.metadata (10 kB)\n",
            "Collecting urllib3<3,>=1.21.1 (from requests>=2.26.0->dlt[duckdb])\n",
            "  Downloading urllib3-2.3.0-py3-none-any.whl.metadata (6.5 kB)\n",
            "Collecting certifi>=2017.4.17 (from requests>=2.26.0->dlt[duckdb])\n",
            "  Downloading certifi-2025.1.31-py3-none-any.whl.metadata (2.5 kB)\n",
            "Collecting types-setuptools>=69.1.0 (from requirements-parser>=0.5.0->dlt[duckdb])\n",
            "  Downloading types_setuptools-75.8.0.20250210-py3-none-any.whl.metadata (2.2 kB)\n",
            "Collecting rich>=11.0.0 (from rich-argparse<2.0.0,>=1.6.0->dlt[duckdb])\n",
            "  Downloading rich-13.9.4-py3-none-any.whl.metadata (18 kB)\n",
            "Collecting pycparser (from cffi>=1.17->dlt-pendulum>=3.0.2->dlt[duckdb])\n",
            "  Using cached pycparser-2.22-py3-none-any.whl.metadata (943 bytes)\n",
            "Collecting smmap<6,>=3.0.1 (from gitdb<5,>=4.0.1->gitpython>=3.1.29->dlt[duckdb])\n",
            "  Downloading smmap-5.0.2-py3-none-any.whl.metadata (4.3 kB)\n",
            "Requirement already satisfied: six>=1.5 in /Users/aurafrizzati/anaconda3/envs/DE_zoomcamp/lib/python3.13/site-packages (from python-dateutil>=2.6->dlt-pendulum>=3.0.2->dlt[duckdb]) (1.17.0)\n",
            "Collecting markdown-it-py>=2.2.0 (from rich>=11.0.0->rich-argparse<2.0.0,>=1.6.0->dlt[duckdb])\n",
            "  Using cached markdown_it_py-3.0.0-py3-none-any.whl.metadata (6.9 kB)\n",
            "Requirement already satisfied: pygments<3.0.0,>=2.13.0 in /Users/aurafrizzati/anaconda3/envs/DE_zoomcamp/lib/python3.13/site-packages (from rich>=11.0.0->rich-argparse<2.0.0,>=1.6.0->dlt[duckdb]) (2.19.1)\n",
            "Collecting mdurl~=0.1 (from markdown-it-py>=2.2.0->rich>=11.0.0->rich-argparse<2.0.0,>=1.6.0->dlt[duckdb])\n",
            "  Using cached mdurl-0.1.2-py3-none-any.whl.metadata (1.6 kB)\n",
            "Downloading click-8.1.8-py3-none-any.whl (98 kB)\n",
            "Downloading dlt_pendulum-3.0.2-cp313-cp313-macosx_11_0_arm64.whl (319 kB)\n",
            "Downloading duckdb-1.2.0-cp313-cp313-macosx_12_0_arm64.whl (15.3 MB)\n",
            "\u001b[2K   \u001b[90m━━━━━━━━━━━━━━━━━━━━━━━━━━━━━━━━━━━━━━━━\u001b[0m \u001b[32m15.3/15.3 MB\u001b[0m \u001b[31m14.9 MB/s\u001b[0m eta \u001b[36m0:00:00\u001b[0ma \u001b[36m0:00:01\u001b[0m\n",
            "\u001b[?25hDownloading fsspec-2025.2.0-py3-none-any.whl (184 kB)\n",
            "Downloading GitPython-3.1.44-py3-none-any.whl (207 kB)\n",
            "Downloading giturlparse-0.12.0-py2.py3-none-any.whl (15 kB)\n",
            "Downloading hexbytes-1.3.0-py3-none-any.whl (4.9 kB)\n",
            "Downloading humanize-4.11.0-py3-none-any.whl (128 kB)\n",
            "Downloading jsonpath_ng-1.7.0-py3-none-any.whl (30 kB)\n",
            "Downloading makefun-1.15.6-py2.py3-none-any.whl (22 kB)\n",
            "Downloading orjson-3.10.15-cp313-cp313-macosx_10_15_x86_64.macosx_11_0_arm64.macosx_10_15_universal2.whl (249 kB)\n",
            "Downloading pathvalidate-3.2.3-py3-none-any.whl (24 kB)\n",
            "Downloading pluggy-1.5.0-py3-none-any.whl (20 kB)\n",
            "Downloading PyYAML-6.0.2-cp313-cp313-macosx_11_0_arm64.whl (171 kB)\n",
            "Using cached requests-2.32.3-py3-none-any.whl (64 kB)\n",
            "Downloading requirements_parser-0.11.0-py3-none-any.whl (14 kB)\n",
            "Downloading rich_argparse-1.7.0-py3-none-any.whl (25 kB)\n",
            "Downloading semver-3.0.4-py3-none-any.whl (17 kB)\n",
            "Downloading simplejson-3.19.3-cp313-cp313-macosx_11_0_arm64.whl (74 kB)\n",
            "Downloading tenacity-9.0.0-py3-none-any.whl (28 kB)\n",
            "Downloading tomlkit-0.13.2-py3-none-any.whl (37 kB)\n",
            "Downloading dlt-1.6.1-py3-none-any.whl (884 kB)\n",
            "\u001b[2K   \u001b[90m━━━━━━━━━━━━━━━━━━━━━━━━━━━━━━━━━━━━━━━━\u001b[0m \u001b[32m884.3/884.3 kB\u001b[0m \u001b[31m9.9 MB/s\u001b[0m eta \u001b[36m0:00:00\u001b[0m\n",
            "\u001b[?25hDownloading certifi-2025.1.31-py3-none-any.whl (166 kB)\n",
            "Downloading cffi-1.17.1-cp313-cp313-macosx_11_0_arm64.whl (178 kB)\n",
            "Downloading charset_normalizer-3.4.1-cp313-cp313-macosx_10_13_universal2.whl (195 kB)\n",
            "Downloading gitdb-4.0.12-py3-none-any.whl (62 kB)\n",
            "Downloading idna-3.10-py3-none-any.whl (70 kB)\n",
            "Downloading rich-13.9.4-py3-none-any.whl (242 kB)\n",
            "Downloading types_setuptools-75.8.0.20250210-py3-none-any.whl (71 kB)\n",
            "Downloading urllib3-2.3.0-py3-none-any.whl (128 kB)\n",
            "Downloading ply-3.11-py2.py3-none-any.whl (49 kB)\n",
            "Using cached markdown_it_py-3.0.0-py3-none-any.whl (87 kB)\n",
            "Downloading smmap-5.0.2-py3-none-any.whl (24 kB)\n",
            "Using cached pycparser-2.22-py3-none-any.whl (117 kB)\n",
            "Using cached mdurl-0.1.2-py3-none-any.whl (10.0 kB)\n",
            "Installing collected packages: ply, makefun, urllib3, types-setuptools, tomlkit, tenacity, smmap, simplejson, semver, PyYAML, pycparser, pluggy, pathvalidate, orjson, mdurl, jsonpath-ng, idna, humanize, hexbytes, giturlparse, fsspec, duckdb, click, charset-normalizer, certifi, requirements-parser, requests, markdown-it-py, gitdb, cffi, rich, gitpython, dlt-pendulum, rich-argparse, dlt\n",
            "Successfully installed PyYAML-6.0.2 certifi-2025.1.31 cffi-1.17.1 charset-normalizer-3.4.1 click-8.1.8 dlt-1.6.1 dlt-pendulum-3.0.2 duckdb-1.2.0 fsspec-2025.2.0 gitdb-4.0.12 gitpython-3.1.44 giturlparse-0.12.0 hexbytes-1.3.0 humanize-4.11.0 idna-3.10 jsonpath-ng-1.7.0 makefun-1.15.6 markdown-it-py-3.0.0 mdurl-0.1.2 orjson-3.10.15 pathvalidate-3.2.3 pluggy-1.5.0 ply-3.11 pycparser-2.22 requests-2.32.3 requirements-parser-0.11.0 rich-13.9.4 rich-argparse-1.7.0 semver-3.0.4 simplejson-3.19.3 smmap-5.0.2 tenacity-9.0.0 tomlkit-0.13.2 types-setuptools-75.8.0.20250210 urllib3-2.3.0\n"
          ]
        }
      ],
      "source": [
        " !pip install 'dlt[duckdb]'"
      ]
    },
    {
      "cell_type": "markdown",
      "metadata": {
        "id": "Xv9gkwKIV3wM"
      },
      "source": [
        "> Or choose a different bracket—`bigquery`, `redshift`, etc.—if you prefer another primary destination. For this assignment, we’ll still do a quick test with DuckDB.\n",
        "\n",
        "2. **Check** the version:\n"
      ]
    },
    {
      "cell_type": "code",
      "execution_count": 4,
      "metadata": {
        "id": "scFCGjeMWCkI"
      },
      "outputs": [
        {
          "name": "stdout",
          "output_type": "stream",
          "text": [
            "\u001b[39mdlt 1.6.1\u001b[0m\n"
          ]
        }
      ],
      "source": [
        "!dlt --version"
      ]
    },
    {
      "cell_type": "markdown",
      "metadata": {
        "id": "Z-YrUxR8WFNw"
      },
      "source": [
        "or:"
      ]
    },
    {
      "cell_type": "code",
      "execution_count": 5,
      "metadata": {
        "id": "SSm1xDzPV5dO"
      },
      "outputs": [
        {
          "name": "stdout",
          "output_type": "stream",
          "text": [
            "dlt version: 1.6.1\n"
          ]
        }
      ],
      "source": [
        "import dlt\n",
        "print(\"dlt version:\", dlt.__version__)"
      ]
    },
    {
      "cell_type": "markdown",
      "metadata": {
        "id": "f0Z3F5s4WaXO"
      },
      "source": [
        "**Answer**:  \n",
        "- Provide the **version** you see in the output."
      ]
    },
    {
      "cell_type": "markdown",
      "metadata": {
        "id": "M02IXn-GWdBO"
      },
      "source": [
        "## **Question 2: Define & Run the Pipeline (NYC Taxi API)**\n",
        "\n",
        "Use dlt to extract all pages of data from the API.\n",
        "\n",
        "Steps:\n",
        "\n",
        "1️⃣ Use the `@dlt.resource` decorator to define the API source.\n",
        "\n",
        "2️⃣ Implement automatic pagination using dlt's built-in REST client.\n",
        "\n",
        "3️⃣ Load the extracted data into DuckDB for querying.\n",
        "\n"
      ]
    },
    {
      "cell_type": "code",
      "execution_count": 6,
      "metadata": {
        "id": "8ChhfBNUWshT"
      },
      "outputs": [],
      "source": [
        "import dlt\n",
        "## class used to interact with REST APIs\n",
        "from dlt.sources.helpers.rest_client import RESTClient \n",
        "## class used to handle pagination when fetching data from REST APIs\n",
        "from dlt.sources.helpers.rest_client.paginators import PageNumberPaginator \n",
        "\n",
        "\n",
        "# your code is here\n",
        "\n",
        "pipeline = dlt.pipeline(\n",
        "    pipeline_name=\"ny_taxi_pipeline\",\n",
        "    destination=\"duckdb\",\n",
        "    dataset_name=\"ny_taxi_data\"\n",
        ")"
      ]
    },
    {
      "cell_type": "code",
      "execution_count": 7,
      "metadata": {
        "id": "emXcAQN2XIYk"
      },
      "outputs": [
        {
          "ename": "NameError",
          "evalue": "name 'ny_taxi' is not defined",
          "output_type": "error",
          "traceback": [
            "\u001b[0;31m---------------------------------------------------------------------------\u001b[0m",
            "\u001b[0;31mNameError\u001b[0m                                 Traceback (most recent call last)",
            "Cell \u001b[0;32mIn[7], line 1\u001b[0m\n\u001b[0;32m----> 1\u001b[0m load_info \u001b[38;5;241m=\u001b[39m pipeline\u001b[38;5;241m.\u001b[39mrun(\u001b[43mny_taxi\u001b[49m)\n\u001b[1;32m      2\u001b[0m \u001b[38;5;28mprint\u001b[39m(load_info)\n",
            "\u001b[0;31mNameError\u001b[0m: name 'ny_taxi' is not defined"
          ]
        }
      ],
      "source": [
        "load_info = pipeline.run(ny_taxi)\n",
        "print(load_info)"
      ]
    },
    {
      "cell_type": "markdown",
      "metadata": {
        "id": "VfFtRuJLeTJZ"
      },
      "source": [
        "Start a connection to your database using native `duckdb` connection and look what tables were generated:"
      ]
    },
    {
      "cell_type": "code",
      "execution_count": null,
      "metadata": {
        "id": "bmOjtD-Xeq3K"
      },
      "outputs": [],
      "source": [
        "import duckdb\n",
        "from google.colab import data_table\n",
        "data_table.enable_dataframe_formatter()\n",
        "\n",
        "# A database '<pipeline_name>.duckdb' was created in working directory so just connect to it\n",
        "\n",
        "# Connect to the DuckDB database\n",
        "conn = duckdb.connect(f\"{pipeline.pipeline_name}.duckdb\")\n",
        "\n",
        "# Set search path to the dataset\n",
        "conn.sql(f\"SET search_path = '{pipeline.dataset_name}'\")\n",
        "\n",
        "# Describe the dataset\n",
        "conn.sql(\"DESCRIBE\").df()"
      ]
    },
    {
      "cell_type": "markdown",
      "metadata": {
        "id": "lmfI_zjoeIrf"
      },
      "source": [
        "**Answer:**\n",
        "* How many tables were created?"
      ]
    },
    {
      "cell_type": "markdown",
      "metadata": {
        "id": "LLuS9O63f-fv"
      },
      "source": [
        "## **Question 3: Explore the loaded data**"
      ]
    },
    {
      "cell_type": "markdown",
      "metadata": {
        "id": "d_cWQaQjXLn8"
      },
      "source": [
        "Inspect the table `ride`:\n"
      ]
    },
    {
      "cell_type": "code",
      "execution_count": null,
      "metadata": {
        "id": "lvpYmnhkXKLZ"
      },
      "outputs": [],
      "source": [
        "df = pipeline.dataset(dataset_type=\"default\").rides.df()\n",
        "df"
      ]
    },
    {
      "cell_type": "markdown",
      "metadata": {
        "id": "OZEvd9TcgEst"
      },
      "source": [
        "**Answer:**\n",
        "* What is the total number of records extracted?"
      ]
    },
    {
      "cell_type": "markdown",
      "metadata": {
        "id": "joyAEvNae6Ds"
      },
      "source": [
        "## **Question 4: Trip Duration Analysis**\n",
        "\n",
        "Run the SQL query below to:\n",
        "\n",
        "* Calculate the average trip duration in minutes."
      ]
    },
    {
      "cell_type": "code",
      "execution_count": null,
      "metadata": {
        "id": "BtsSxtFfXQs3"
      },
      "outputs": [],
      "source": [
        "with pipeline.sql_client() as client:\n",
        "    res = client.execute_sql(\n",
        "            \"\"\"\n",
        "            SELECT\n",
        "            AVG(date_diff('minute', trip_pickup_date_time, trip_dropoff_date_time))\n",
        "            FROM rides;\n",
        "            \"\"\"\n",
        "        )\n",
        "    # Prints column values of the first row\n",
        "    print(res)"
      ]
    },
    {
      "cell_type": "markdown",
      "metadata": {
        "id": "YTIydWT0dTf9"
      },
      "source": [
        "**Answer:**\n",
        "* What is the average trip duration?"
      ]
    },
    {
      "cell_type": "markdown",
      "metadata": {
        "id": "kEFQZKB0gkCI"
      },
      "source": [
        "## **Submitting the solutions**\n",
        "\n",
        "* Form for submitting: TBA\n",
        "\n",
        "\n"
      ]
    },
    {
      "cell_type": "markdown",
      "metadata": {
        "id": "cPrgwE3ziNan"
      },
      "source": [
        "## **Solution**\n",
        "\n",
        "We will publish the solution here after deadline."
      ]
    }
  ],
  "metadata": {
    "colab": {
      "provenance": [],
      "toc_visible": true
    },
    "kernelspec": {
      "display_name": "DE_zoomcamp",
      "language": "python",
      "name": "python3"
    },
    "language_info": {
      "codemirror_mode": {
        "name": "ipython",
        "version": 3
      },
      "file_extension": ".py",
      "mimetype": "text/x-python",
      "name": "python",
      "nbconvert_exporter": "python",
      "pygments_lexer": "ipython3",
      "version": "3.13.1"
    }
  },
  "nbformat": 4,
  "nbformat_minor": 0
}
