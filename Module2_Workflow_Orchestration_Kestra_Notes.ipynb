{
  "nbformat": 4,
  "nbformat_minor": 0,
  "metadata": {
    "colab": {
      "provenance": [],
      "authorship_tag": "ABX9TyNq5XBDrZcTbkfpn9b900CH",
      "include_colab_link": true
    },
    "kernelspec": {
      "name": "python3",
      "display_name": "Python 3"
    },
    "language_info": {
      "name": "python"
    }
  },
  "cells": [
    {
      "cell_type": "markdown",
      "metadata": {
        "id": "view-in-github",
        "colab_type": "text"
      },
      "source": [
        "<a href=\"https://colab.research.google.com/github/AuraFrizzati/DE-Zoomcamp-AF/blob/main/Module2_Workflow_Orchestration_Kestra_Notes.ipynb\" target=\"_parent\"><img src=\"https://colab.research.google.com/assets/colab-badge.svg\" alt=\"Open In Colab\"/></a>"
      ]
    },
    {
      "cell_type": "markdown",
      "source": [
        "# **Module 2: Worflow Orchestration with Kestra**\n",
        "\n",
        "Welcome to **Module 2** of the **Data Engineering Zoomcamp**! This week, we'll dive into **workflow orchestration** using **Kestra**. https://kestra.io/\n",
        "\n",
        "Kestra is an **open-source**, **event-driven orchestration platform** that simplifies building both **scheduled** and **event-driven workflows**. By adopting **Infrastructure as Code practices** for **data** and **process orchestration**, Kestra enables you to build reliable workflows with just a few lines of `YAML`.\n",
        "\n",
        "All youtube videos here: https://www.youtube.com/playlist?list=PLEK3H8YwZn1oPPShk2p5k3E9vO-gPnUCf"
      ],
      "metadata": {
        "id": "2DTyidD8Qh3J"
      }
    },
    {
      "cell_type": "markdown",
      "source": [
        "## **Index**\n",
        "\n",
        "- **2.1. Conceptual Material: Introduction to Orchestration and Kestra**. In this section, you'll learn the **foundations** of **workflow orchestration**, its **importance**, and how **Kestra** fits into the orchestration landscape.\n",
        "\n",
        "- **2.1. Hands-On Coding Project: Build Data Pipelines with Kestra**. We're gonna **build ETL pipelines** for Yellow and Green Taxi data from NYC's Taxi and Limousine Commission (TLC). You will:\n",
        "  - **Extract** data from **CSV files**.\n",
        "  - **Load** it into **Postgres** or **Google Cloud** (**GCS** + **BigQuery**).\n",
        "  - Explore **scheduling** and **backfilling workflows**.\n",
        "\n",
        "- **2.3. ETL Pipelines in Kestra: Detailed Walkthrough**. This introductory flow is added just to demonstrate a **simple data pipeline** which **extracts data via HTTP REST API**, **transforms** that data in **Python** and then **queries it using DuckDB**. For this stage, a new separate Postgres database is created for the exercises.\n",
        "\n",
        "- **2.4. ETL Pipelines in Kestra: Google Cloud Platform**. Now that you've learned how to build ETL pipelines locally using Postgres, we are ready to move to the cloud. In this section, we'll **load** the same Yellow and Green Taxi data to Google Cloud Platform (**GCP**) using:\n",
        "  - **Google Cloud Storage** (**GCS**) as a **data lake**\n",
        "  - **BigQuery** as a **data warehouse**.\n",
        "\n",
        "- **2.5. Bonus: Deploy to the Cloud**. Now that we've got our ETL pipeline working both locally and in the cloud, we can **deploy Kestra to the cloud** so it can **continue to orchestrate our ETL pipelines monthly with our configured schedules**, We'll cover how you can install Kestra on Google Cloud in **Production**, and **automatically sync and deploy your workflows from a Git repository**."
      ],
      "metadata": {
        "id": "iRgJCC2kRZGC"
      }
    },
    {
      "cell_type": "markdown",
      "source": [
        "## **2.1. Conceptual Material: Introduction to Orchestration and Kestra**"
      ],
      "metadata": {
        "id": "eSRYMY5rTZXr"
      }
    },
    {
      "cell_type": "markdown",
      "source": [
        "### **Kestra: Product Overview**\n",
        "https://www.youtube.com/watch?v=feC6-KQLYyA"
      ],
      "metadata": {
        "id": "Sgppsc7lnZlP"
      }
    },
    {
      "cell_type": "code",
      "source": [],
      "metadata": {
        "id": "n_PNOhsfTjtb"
      },
      "execution_count": null,
      "outputs": []
    }
  ]
}